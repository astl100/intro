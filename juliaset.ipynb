{
 "cells": [
  {
   "cell_type": "markdown",
   "metadata": {
    "collapsed": false
   },
   "source": [
    "# Julia Sets\n",
    "\n",
    "### Lindy Astl"
   ]
  },
  {
   "cell_type": "code",
   "execution_count": null,
   "metadata": {
    "collapsed": true
   },
   "outputs": [],
   "source": [
    "class JuliaSet(object):\n",
    "    \n",
    "    def __init__(self, c, n=100):\n",
    "        self.c = c\n",
    "        self.n = n\n",
    "        self._d = 0.001\n",
    "        self._complexplane = []\n",
    "        self.set = []\n",
    "        \n",
    "    def juliamap(self, z):\n",
    "        return (z**2) + self.c\n",
    "    \n",
    "    def iterate(self, z):\n",
    "        m = 0\n",
    "        \n",
    "        while True:\n",
    "            z = self.juliamap(z)\n",
    "            m += 1\n",
    "            \n",
    "            if abs(z) > 2:\n",
    "                return m\n",
    "            elif m >= self.n:\n",
    "                return 0\n",
    "            else:\n",
    "                pass\n",
    "            \n",
    "    def set_spacing(self, d):\n",
    "        if d > 0: \n",
    "            self._d = d\n",
    "            self.generate_plane()\n",
    "    \n",
    "    def generate_plane(self):\n",
    "        num_step = xrange(0, int(4.0/self._d))\n",
    "        r = [-2 + i*self._d for i in num_step]\n",
    "        \n",
    "        self._complexplane = [complex(x,y) for x in r for y in r]\n",
    "        \n",
    "    def generate(self):\n",
    "        for z in self._complexplane:\n",
    "            t = self.iterate(z)\n",
    "            self.set.append(t)\n",
    "        return self.set\n",
    "                \n",
    "        \n",
    "        \n",
    "        "
   ]
  },
  {
   "cell_type": "markdown",
   "metadata": {
    "collapsed": true
   },
   "source": [
    "Check different values and see their outcomes. In the complex plane the different complex number inputs will take different amounts of iterations to exit. Using the unit circle is helpful because everything within it will diverge to 0 because every time you square a fraction(julismap()), you get a smaller and smaller fraction. Every time you square any values on the cicle, you will get another value on the circle. Lastly, if you square any values outside of the unit circle, they will diverge to infinity. "
   ]
  }
 ],
 "metadata": {
  "kernelspec": {
   "display_name": "Python 2",
   "language": "python",
   "name": "python2"
  },
  "language_info": {
   "codemirror_mode": {
    "name": "ipython",
    "version": 2
   },
   "file_extension": ".py",
   "mimetype": "text/x-python",
   "name": "python",
   "nbconvert_exporter": "python",
   "pygments_lexer": "ipython2",
   "version": "2.7.9"
  },
  "name": "juliaset.ipynb"
 },
 "nbformat": 4,
 "nbformat_minor": 0
}
